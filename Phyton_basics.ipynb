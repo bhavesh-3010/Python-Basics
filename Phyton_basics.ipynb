{
  "nbformat": 4,
  "nbformat_minor": 0,
  "metadata": {
    "colab": {
      "provenance": []
    },
    "kernelspec": {
      "name": "python3",
      "display_name": "Python 3"
    },
    "language_info": {
      "name": "python"
    }
  },
  "cells": [
    {
      "cell_type": "markdown",
      "source": [
        "# Phyton basics"
      ],
      "metadata": {
        "id": "bLNPR3HScT0p"
      }
    },
    {
      "cell_type": "markdown",
      "source": [
        " 1.What is Python, and why is it popular\n",
        "  - Python is a high-level, interpreted programming language known for its simplicity, readability, and versatility. It is widely used in web development, data science, machine learning, automation, cybersecurity, and more. Python's popularity comes from its easy-to-learn syntax, extensive libraries, cross-platform compatibility, and strong community support. Major companies like Google, Facebook, and Netflix use Python, and its vast ecosystem makes it ideal for both beginners and professionals."
      ],
      "metadata": {
        "id": "ds8ilfWYbiSI"
      }
    },
    {
      "cell_type": "markdown",
      "source": [
        "2.  What is an interpreter in Python\n",
        "   - An interpreter in Python is a program that executes Python code line by line, converting it into machine-readable instructions at runtime. Unlike compiled languages like C or Java, Python does not require explicit compilation before execution. The Python interpreter processes code dynamically, making debugging easier and allowing for interactive programming using the Python REPL (Read-Eval-Print Loop). Examples of Python interpreters include CPython (default), PyPy, Jython, and IronPython."
      ],
      "metadata": {
        "id": "XkF7Bl6nc4hS"
      }
    },
    {
      "cell_type": "markdown",
      "source": [
        "3. What are pre-defined keywords in Python\n",
        "  - Pre-defined keywords in Python are reserved words that have special meanings and cannot be used as variable names, function names, or identifiers. These keywords define the syntax and structure of the language. Some common Python keywords include if, else, elif, for, while, break, continue, def, return, import, and class. They are used to perform specific tasks such as defining conditions, loops, functions, and handling exceptions. Since these words have predefined functions, using them as variable names will result in a syntax error."
      ],
      "metadata": {
        "id": "vkjSm64ldKBl"
      }
    },
    {
      "cell_type": "markdown",
      "source": [
        "4.  Can keywords be used as variable names\n",
        "  - No, keywords cannot be used as variable names in Python because they are reserved words with special meanings that define the language’s syntax and structure. Using a keyword as a variable name will result in a syntax error. For example, assigning a value to a variable named if or class will cause an error since these words are used for defining conditions and classes. To avoid conflicts, Python variable names should be unique and not match any of the predefined keywords."
      ],
      "metadata": {
        "id": "VfvbrYFZdZD0"
      }
    },
    {
      "cell_type": "markdown",
      "source": [
        "5. What is mutability in Python\n",
        "   - Mutability in Python refers to whether an object’s value can be changed after it is created. Mutable objects, such as lists, dictionaries, and sets, allow modifications, meaning their contents can be updated, added to, or removed. Immutable objects, such as strings, tuples, and integers, cannot be changed once assigned, and any modification creates a new object in memory instead of altering the existing one. Understanding mutability helps in managing memory efficiently and avoiding unintended changes when working with data structures."
      ],
      "metadata": {
        "id": "bJR-81n0dpi-"
      }
    },
    {
      "cell_type": "markdown",
      "source": [
        "6. Why are lists mutable, but tuples are immutable\n",
        "  - Lists are mutable because they are designed to allow modifications, meaning elements can be added, removed, or changed without creating a new object in memory. This flexibility makes lists useful for dynamic data structures where frequent updates are needed. Tuples, on the other hand, are immutable because they are meant to store fixed collections of data that should not change. Their immutability provides advantages like improved performance, hashability (allowing them to be used as dictionary keys), and protection against accidental modifications. This fundamental difference makes lists suitable for dynamic operations, while tuples are better for static or read-only data."
      ],
      "metadata": {
        "id": "AlVTzgh_d1HY"
      }
    },
    {
      "cell_type": "markdown",
      "source": [
        "7.  What is the difference between “==” and “is” operators in Python\n",
        "  - The `==` operator checks for value equality, meaning it compares whether two variables have the same data, even if they are stored at different memory locations. In contrast, the `is` operator checks for identity equality, meaning it verifies whether two variables reference the same object in memory. For example, `a = [1, 2, 3]` and `b = [1, 2, 3]` will return `True` for `a == b` but `False` for `a is b` because they contain the same values but are different objects. However, for immutable objects like integers and strings, Python may reuse memory locations, making `is` sometimes return `True`."
      ],
      "metadata": {
        "id": "lVGIgVy1eD47"
      }
    },
    {
      "cell_type": "markdown",
      "source": [
        "8.  What are logical operators in Python\n",
        "  -Logical operators in Python are used to combine conditional statements and return a Boolean value of either True or False. The three logical operators are and, or, and not. The and operator returns True only if both conditions are true; otherwise, it returns False. The or operator returns True if at least one of the conditions is true. The not operator reverses the Boolean value of a condition, turning True into False and vice versa. For example, if x is 5, the expression (x > 2 and x < 10) returns True, (x > 10 or x == 5) returns True, and not(x > 2) returns False."
      ],
      "metadata": {
        "id": "HYH_EJWKeTtC"
      }
    },
    {
      "cell_type": "markdown",
      "source": [
        "9. What is type casting in Python\n",
        "  - Type casting in Python is the process of converting a variable from one data type to another, either implicitly or explicitly. Implicit type casting happens automatically when Python converts a smaller data type to a larger one, such as converting an integer to a float during arithmetic operations. Explicit type casting requires the use of functions like int(), float(), str(), or list() to manually convert data types. For example, using int(\"10\") converts a string to an integer, while float(5) converts an integer to a floating-point number. Type casting is useful for ensuring compatibility between different data types in operations and function calls."
      ],
      "metadata": {
        "id": "e1Fo8wRBenul"
      }
    },
    {
      "cell_type": "markdown",
      "source": [
        "10. What is the difference between implicit and explicit type casting\n",
        "  - Implicit type casting occurs automatically when Python converts a smaller data type to a larger one to prevent data loss, such as converting an integer to a float in an arithmetic operation like `x = 5 + 2.5`, where `5` is implicitly converted to `5.0`. Explicit type casting, on the other hand, requires manual conversion using functions like `int()`, `float()`, or `str()`, where the programmer explicitly decides how to change the data type. For example, using `int(\"10\")` converts a string to an integer, while `float(5)` changes an integer to a floating-point number. Explicit casting is necessary when Python cannot automatically convert types, such as converting a string containing numbers into an actual numerical type for calculations."
      ],
      "metadata": {
        "id": "MoCXWGZUe0M0"
      }
    },
    {
      "cell_type": "markdown",
      "source": [
        "11. What is the purpose of conditional statements in Python\n",
        "   - The purpose of conditional statements in Python is to control the flow of a program by executing specific blocks of code based on certain conditions. These statements, including if, elif, and else, allow a program to make decisions and respond differently depending on the input or situation. For example, an if statement can check whether a user’s age is above 18 and grant access accordingly, while an elif statement provides additional conditions, and else acts as a fallback. This decision-making capability makes programs more dynamic, flexible, and interactive by allowing different outcomes based on varying conditions."
      ],
      "metadata": {
        "id": "ywDITsZQe-AW"
      }
    },
    {
      "cell_type": "markdown",
      "source": [
        "12.  How does the elif statement work\n",
        "  - The `elif` statement in Python is used to check multiple conditions in a sequence after an initial `if` statement. It acts as a middle step between `if` and `else`, allowing the program to evaluate additional conditions if the previous ones are false. When an `if` condition is false, the program moves to the `elif` condition, and if that is also false, it continues checking any further `elif` statements until a true condition is found. If none of the conditions are met, the `else` block executes as the default case. This structure helps avoid multiple separate `if` statements and makes the code more readable and efficient."
      ],
      "metadata": {
        "id": "amD3XLcufGu6"
      }
    },
    {
      "cell_type": "markdown",
      "source": [
        "13. What is the difference between for and while loops\n",
        "  - The difference between for and while loops in Python lies in their usage and control structure. A for loop is used when the number of iterations is known in advance, as it iterates over a sequence such as a list, tuple, string, or range. It automatically stops when the sequence is exhausted. In contrast, a while loop is used when the number of iterations is not predetermined and depends on a condition remaining true. The while loop continues executing as long as the condition evaluates to true and stops when it becomes false. For example, a for loop is ideal for iterating over a list of items, while a while loop is useful for cases like waiting for user input or running a loop until a specific condition is met."
      ],
      "metadata": {
        "id": "9jEGKvpCfUYB"
      }
    },
    {
      "cell_type": "code",
      "execution_count": null,
      "metadata": {
        "id": "3vvWDoqZbhnm"
      },
      "outputs": [],
      "source": []
    },
    {
      "cell_type": "markdown",
      "source": [
        "14. Describe a scenario where a while loop is more suitable than a for loop\n",
        "  - A while loop is more suitable than a for loop when the number of iterations is unknown beforehand and depends on a condition being met. For example, in a user authentication system, a while loop can repeatedly prompt a user to enter the correct password until they input the right one. Since the number of attempts needed is uncertain, a while loop ensures the program keeps running until the user provides valid input. This flexibility makes while loops ideal for scenarios like waiting for a sensor reading to reach a certain threshold, processing user input until a specific command is given, or running a game loop until the player decides to quit."
      ],
      "metadata": {
        "id": "MQUZS2FtfelQ"
      }
    },
    {
      "cell_type": "markdown",
      "source": [
        "# Practical Questions"
      ],
      "metadata": {
        "id": "gSknzYhFfo03"
      }
    },
    {
      "cell_type": "code",
      "source": [
        "#1. Write a Python program to print \"Hello, World!?\n",
        "\n",
        "print(\"Hello, World!\")\n"
      ],
      "metadata": {
        "colab": {
          "base_uri": "https://localhost:8080/"
        },
        "id": "u1xDObqofoLP",
        "outputId": "dcc7982d-dc72-4ffc-e06a-4cfb9cf28dfc"
      },
      "execution_count": 2,
      "outputs": [
        {
          "output_type": "stream",
          "name": "stdout",
          "text": [
            "Hello, World!\n"
          ]
        }
      ]
    },
    {
      "cell_type": "code",
      "source": [
        "#2. Write a Python program that displays your name and age\n",
        "\n",
        "name = \"Bhavesh\"\n",
        "age = 21\n",
        "\n",
        "print(\"My name is\", name)\n",
        "print(\"I am\", age, \"years old\")\n"
      ],
      "metadata": {
        "colab": {
          "base_uri": "https://localhost:8080/"
        },
        "id": "V3-BC8rif6nr",
        "outputId": "f2d1a322-f520-41e7-f72a-0d2a6221f228"
      },
      "execution_count": 3,
      "outputs": [
        {
          "output_type": "stream",
          "name": "stdout",
          "text": [
            "My name is Bhavesh\n",
            "I am 21 years old\n"
          ]
        }
      ]
    },
    {
      "cell_type": "code",
      "source": [
        "#3. Write code to print all the pre-defined keywords in Python using the keyword library\n",
        "\n",
        "import keyword\n",
        "\n",
        "keywords = keyword.kwlist\n",
        "\n",
        "# Print the keywords\n",
        "print(\"Python Keywords:\")\n",
        "for word in keywords:\n",
        "    print(word)\n"
      ],
      "metadata": {
        "colab": {
          "base_uri": "https://localhost:8080/"
        },
        "id": "g8_Ho9iFgLZW",
        "outputId": "d79cd517-e7dd-490c-dd3e-cabef46fc3ea"
      },
      "execution_count": 4,
      "outputs": [
        {
          "output_type": "stream",
          "name": "stdout",
          "text": [
            "Python Keywords:\n",
            "False\n",
            "None\n",
            "True\n",
            "and\n",
            "as\n",
            "assert\n",
            "async\n",
            "await\n",
            "break\n",
            "class\n",
            "continue\n",
            "def\n",
            "del\n",
            "elif\n",
            "else\n",
            "except\n",
            "finally\n",
            "for\n",
            "from\n",
            "global\n",
            "if\n",
            "import\n",
            "in\n",
            "is\n",
            "lambda\n",
            "nonlocal\n",
            "not\n",
            "or\n",
            "pass\n",
            "raise\n",
            "return\n",
            "try\n",
            "while\n",
            "with\n",
            "yield\n"
          ]
        }
      ]
    },
    {
      "cell_type": "code",
      "source": [
        "#4. Write a program that checks if a given word is a Python keyword\n",
        "\n",
        "import keyword\n",
        "\n",
        "# Get user input\n",
        "word = input(\"Enter a word: \")\n",
        "\n",
        "# Check if the word is a Python keyword\n",
        "if keyword.iskeyword(word):\n",
        "    print(f\"'{word}' is a Python keyword.\")\n",
        "else:\n",
        "    print(f\"'{word}' is not a Python keyword.\")\n"
      ],
      "metadata": {
        "colab": {
          "base_uri": "https://localhost:8080/"
        },
        "id": "JlQBnhgygWIk",
        "outputId": "3ce36db0-17fa-4404-9fbe-5940fa8ce9fe"
      },
      "execution_count": 7,
      "outputs": [
        {
          "output_type": "stream",
          "name": "stdout",
          "text": [
            "Enter a word: Data analyst\n",
            "'Data analyst' is not a Python keyword.\n"
          ]
        }
      ]
    },
    {
      "cell_type": "code",
      "source": [
        "#5. Create a list and tuple in Python, and demonstrate how attempting to change an element works differently for each\n",
        "   # Creating a list\n",
        "my_list = [1, 2, 3]\n",
        "print(\"Original list:\", my_list)\n",
        "\n",
        "# Modifying an element in the list (Allowed)\n",
        "my_list[1] = 10\n",
        "print(\"Modified list:\", my_list)\n",
        "\n",
        "# Creating a tuple\n",
        "my_tuple = (1, 2, 3)\n",
        "print(\"Original tuple:\", my_tuple)\n",
        "\n",
        "# Attempting to modify an element in the tuple (Not Allowed)\n",
        "try:\n",
        "    my_tuple[1] = 10  # This will cause an error\n",
        "except TypeError as e:\n",
        "    print(\"Error:\", e)\n"
      ],
      "metadata": {
        "colab": {
          "base_uri": "https://localhost:8080/"
        },
        "id": "VolzfJZghbec",
        "outputId": "3366cc56-1237-45b3-9206-c114f789d0a1"
      },
      "execution_count": 9,
      "outputs": [
        {
          "output_type": "stream",
          "name": "stdout",
          "text": [
            "Original list: [1, 2, 3]\n",
            "Modified list: [1, 10, 3]\n",
            "Original tuple: (1, 2, 3)\n",
            "Error: 'tuple' object does not support item assignment\n"
          ]
        }
      ]
    },
    {
      "cell_type": "code",
      "source": [
        "#6. Write a function to demonstrate the behavior of mutable and immutable arguments\n",
        "\n",
        "# Function to modify mutable and immutable arguments\n",
        "def modify_values(immutable_var, mutable_var):\n",
        "    immutable_var += 10  # This creates a new integer object\n",
        "    mutable_var.append(4)  # This modifies the existing list\n",
        "\n",
        "    print(\"Inside function - Immutable:\", immutable_var)\n",
        "    print(\"Inside function - Mutable:\", mutable_var)\n",
        "\n",
        "# Immutable variable (integer)\n",
        "num = 5\n",
        "\n",
        "# Mutable variable (list)\n",
        "num_list = [1, 2, 3]\n",
        "\n",
        "print(\"Before function call - Immutable:\", num)\n",
        "print(\"Before function call - Mutable:\", num_list)\n",
        "\n",
        "# Call the function\n",
        "modify_values(num, num_list)\n",
        "\n",
        "print(\"After function call - Immutable:\", num)  # Unchanged\n",
        "print(\"After function call - Mutable:\", num_list)  # Changed\n"
      ],
      "metadata": {
        "colab": {
          "base_uri": "https://localhost:8080/"
        },
        "id": "hLMh_iZ5hypR",
        "outputId": "644f09f5-2310-4420-f377-8a535543c50a"
      },
      "execution_count": 10,
      "outputs": [
        {
          "output_type": "stream",
          "name": "stdout",
          "text": [
            "Before function call - Immutable: 5\n",
            "Before function call - Mutable: [1, 2, 3]\n",
            "Inside function - Immutable: 15\n",
            "Inside function - Mutable: [1, 2, 3, 4]\n",
            "After function call - Immutable: 5\n",
            "After function call - Mutable: [1, 2, 3, 4]\n"
          ]
        }
      ]
    },
    {
      "cell_type": "code",
      "source": [
        "#7. Write a function to demonstrate the behavior of mutable and immutable arguments\n",
        "\n",
        "def demonstrate_mutability(immutable_var, mutable_var):\n",
        "    # Attempt to modify the immutable variable (integer)\n",
        "    immutable_var += 10  # This creates a new integer object, leaving the original unchanged\n",
        "\n",
        "    # Modify the mutable variable (list)\n",
        "    mutable_var.append(4)  # This changes the existing list\n",
        "\n",
        "    print(\"Inside function - Immutable:\", immutable_var)\n",
        "    print(\"Inside function - Mutable:\", mutable_var)\n",
        "\n",
        "# Immutable argument (integer)\n",
        "num = 5\n",
        "\n",
        "# Mutable argument (list)\n",
        "num_list = [1, 2, 3]\n",
        "\n",
        "print(\"Before function call - Immutable:\", num)\n",
        "print(\"Before function call - Mutable:\", num_list)\n",
        "\n",
        "# Call the function\n",
        "demonstrate_mutability(num, num_list)\n",
        "\n",
        "print(\"After function call - Immutable:\", num)  # Remains unchanged\n",
        "print(\"After function call - Mutable:\", num_list)  # Changed\n"
      ],
      "metadata": {
        "colab": {
          "base_uri": "https://localhost:8080/"
        },
        "id": "YJc_7WXDh-1F",
        "outputId": "d31bc5ba-e72a-468b-f791-349de013f8d1"
      },
      "execution_count": 11,
      "outputs": [
        {
          "output_type": "stream",
          "name": "stdout",
          "text": [
            "Before function call - Immutable: 5\n",
            "Before function call - Mutable: [1, 2, 3]\n",
            "Inside function - Immutable: 15\n",
            "Inside function - Mutable: [1, 2, 3, 4]\n",
            "After function call - Immutable: 5\n",
            "After function call - Mutable: [1, 2, 3, 4]\n"
          ]
        }
      ]
    },
    {
      "cell_type": "code",
      "source": [
        "#8. Write a program to demonstrate the use of logical operators\n",
        "\n",
        " # User input\n",
        "a = int(input(\"Enter first number: \"))\n",
        "b = int(input(\"Enter second number: \"))\n",
        "\n",
        "# Using 'and' operator\n",
        "if a > 0 and b > 0:\n",
        "    print(\"Both numbers are positive.\")\n",
        "\n",
        "# Using 'or' operator\n",
        "if a > 0 or b > 0:\n",
        "    print(\"At least one number is positive.\")\n",
        "\n",
        "# Using 'not' operator\n",
        "if not (a < 0 and b < 0):\n",
        "    print(\"Both numbers are not negative.\")\n"
      ],
      "metadata": {
        "colab": {
          "base_uri": "https://localhost:8080/"
        },
        "id": "MJD2Bx9biNBm",
        "outputId": "89c2353e-51c3-4f9f-be3f-cf711089d6d3"
      },
      "execution_count": 12,
      "outputs": [
        {
          "output_type": "stream",
          "name": "stdout",
          "text": [
            "Enter first number: 30\n",
            "Enter second number: 10\n",
            "Both numbers are positive.\n",
            "At least one number is positive.\n",
            "Both numbers are not negative.\n"
          ]
        }
      ]
    },
    {
      "cell_type": "code",
      "source": [
        "#9. Write a Python program to convert user input from string to integer, float, and boolean types\n",
        "\n",
        "# Get user input as a string\n",
        "user_input = input(\"Enter a value: \")\n",
        "\n",
        "# Convert to integer\n",
        "try:\n",
        "    int_value = int(user_input)\n",
        "    print(\"Integer value:\", int_value)\n",
        "except ValueError:\n",
        "    print(\"Cannot convert to integer.\")\n",
        "\n",
        "# Convert to float\n",
        "try:\n",
        "    float_value = float(user_input)\n",
        "    print(\"Float value:\", float_value)\n",
        "except ValueError:\n",
        "    print(\"Cannot convert to float.\")\n",
        "\n",
        "# Convert to boolean\n",
        "bool_value = bool(user_input)  # Any non-empty string converts to True\n",
        "print(\"Boolean value:\", bool_value)\n"
      ],
      "metadata": {
        "colab": {
          "base_uri": "https://localhost:8080/"
        },
        "id": "DZ3l-EpMieIV",
        "outputId": "e265af4e-ef4e-47b2-b5a6-b542d7dd69b1"
      },
      "execution_count": 13,
      "outputs": [
        {
          "output_type": "stream",
          "name": "stdout",
          "text": [
            "Enter a value: 30\n",
            "Integer value: 30\n",
            "Float value: 30.0\n",
            "Boolean value: True\n"
          ]
        }
      ]
    },
    {
      "cell_type": "code",
      "source": [
        "#10. Write code to demonstrate type casting with list elements\n",
        "\n",
        "# List with mixed data types as strings\n",
        "string_list = [\"10\", \"20.5\", \"30\", \"True\", \"\", \"0\"]\n",
        "\n",
        "# Convert elements to integers (only valid numeric strings)\n",
        "int_list = [int(x) for x in string_list if x.isdigit()]\n",
        "\n",
        "# Convert elements to floats (handles both integers and decimal values)\n",
        "float_list = []\n",
        "for x in string_list:\n",
        "    try:\n",
        "        float_list.append(float(x))\n",
        "    except ValueError:\n",
        "        pass  # Ignore values that cannot be converted\n",
        "\n",
        "# Convert elements to booleans (empty strings become False, everything else is True)\n",
        "bool_list = [bool(x) for x in string_list]\n",
        "\n",
        "# Print the results\n",
        "print(\"Original list:\", string_list)\n",
        "print(\"Integer list:\", int_list)\n",
        "print(\"Float list:\", float_list)\n",
        "print(\"Boolean list:\", bool_list)\n",
        "\n"
      ],
      "metadata": {
        "colab": {
          "base_uri": "https://localhost:8080/"
        },
        "id": "X54hmZfSiuwI",
        "outputId": "92aa97a1-846a-43a8-8714-11711b129854"
      },
      "execution_count": 17,
      "outputs": [
        {
          "output_type": "stream",
          "name": "stdout",
          "text": [
            "Original list: ['10', '20.5', '30', 'True', '', '0']\n",
            "Integer list: [10, 30, 0]\n",
            "Float list: [10.0, 20.5, 30.0, 0.0]\n",
            "Boolean list: [True, True, True, True, False, True]\n"
          ]
        }
      ]
    },
    {
      "cell_type": "code",
      "source": [
        "#11. Write a program that checks if a number is positive, negative, or zero\n",
        "\n",
        "# Get user input\n",
        "num = float(input(\"Enter a number: \"))\n",
        "\n",
        "# Check if the number is positive, negative, or zero\n",
        "if num > 0:\n",
        "    print(\"The number is positive.\")\n",
        "elif num < 0:\n",
        "    print(\"The number is negative.\")\n",
        "else:\n",
        "    print(\"The number is zero.\")\n"
      ],
      "metadata": {
        "colab": {
          "base_uri": "https://localhost:8080/"
        },
        "id": "B_B4EeHWjXZb",
        "outputId": "02350a9c-b54a-405e-89d2-9640e4970d7b"
      },
      "execution_count": 18,
      "outputs": [
        {
          "output_type": "stream",
          "name": "stdout",
          "text": [
            "Enter a number: 30\n",
            "The number is positive.\n"
          ]
        }
      ]
    },
    {
      "cell_type": "code",
      "source": [
        "#12.  Write a for loop to print numbers from 1 to 10\n",
        "\n",
        "for num in range(1, 11):\n",
        "    print(num)\n"
      ],
      "metadata": {
        "colab": {
          "base_uri": "https://localhost:8080/"
        },
        "id": "zn_KpewBjiuE",
        "outputId": "b0d87903-88ac-4339-a458-727c3abd0ee5"
      },
      "execution_count": 19,
      "outputs": [
        {
          "output_type": "stream",
          "name": "stdout",
          "text": [
            "1\n",
            "2\n",
            "3\n",
            "4\n",
            "5\n",
            "6\n",
            "7\n",
            "8\n",
            "9\n",
            "10\n"
          ]
        }
      ]
    },
    {
      "cell_type": "code",
      "source": [
        "#13. Write a Python program to find the sum of all even numbers between 1 and 50\n",
        "\n",
        "# Initialize sum variable\n",
        "sum_even = 0\n",
        "\n",
        "# Loop through even numbers from 1 to 50\n",
        "for num in range(2, 51, 2):  # Start from 2, go up to 50, step by 2\n",
        "    sum_even += num\n",
        "\n",
        "# Print the result\n",
        "print(\"The sum of all even numbers between 1 and 50 is:\", sum_even)\n"
      ],
      "metadata": {
        "colab": {
          "base_uri": "https://localhost:8080/"
        },
        "id": "URIHfvihjsHT",
        "outputId": "a778d4bf-d1fa-41d2-9ca3-17c4e4ba2176"
      },
      "execution_count": 20,
      "outputs": [
        {
          "output_type": "stream",
          "name": "stdout",
          "text": [
            "The sum of all even numbers between 1 and 50 is: 650\n"
          ]
        }
      ]
    },
    {
      "cell_type": "code",
      "source": [
        "#14. Write a program to reverse a string using a while loop\n",
        "\n",
        "# Get user input\n",
        "string = input(\"Enter a string: \")\n",
        "\n",
        "# Initialize variables\n",
        "reversed_string = \"\"\n",
        "index = len(string) - 1  # Start from the last character\n",
        "\n",
        "# Reverse the string using a while loop\n",
        "while index >= 0:\n",
        "    reversed_string += string[index]  # Append characters in reverse order\n",
        "    index -= 1  # Move to the previous character\n",
        "\n",
        "# Print the reversed string\n",
        "print(\"Reversed string:\", reversed_string)\n"
      ],
      "metadata": {
        "colab": {
          "base_uri": "https://localhost:8080/"
        },
        "id": "zqla9VNnj7wl",
        "outputId": "fa07cea7-a237-4d1a-8812-157695065bbe"
      },
      "execution_count": 22,
      "outputs": [
        {
          "output_type": "stream",
          "name": "stdout",
          "text": [
            "Enter a string: Bhavesh\n",
            "Reversed string: hsevahB\n"
          ]
        }
      ]
    },
    {
      "cell_type": "code",
      "source": [
        "#15. Write a Python program to calculate the factorial of a number provided by the user using a while loop\n",
        "\n",
        "# Get user input\n",
        "num = int(input(\"Enter a number: \"))\n",
        "\n",
        "# Initialize factorial and counter\n",
        "factorial = 1\n",
        "i = num\n",
        "\n",
        "# Calculate factorial using a while loop\n",
        "while i > 1:\n",
        "    factorial *= i\n",
        "    i -= 1  # Decrease the counter\n",
        "\n",
        "# Print the result\n",
        "print(f\"The factorial of {num} is: {factorial}\")\n"
      ],
      "metadata": {
        "colab": {
          "base_uri": "https://localhost:8080/"
        },
        "id": "kebhC6fNkJWl",
        "outputId": "6cb6d7aa-8ec0-4390-8220-f3ae3ea4cd4b"
      },
      "execution_count": 23,
      "outputs": [
        {
          "output_type": "stream",
          "name": "stdout",
          "text": [
            "Enter a number: 30\n",
            "The factorial of 30 is: 265252859812191058636308480000000\n"
          ]
        }
      ]
    }
  ]
}